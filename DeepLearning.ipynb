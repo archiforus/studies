# 190909 스터디
# import 
import pandas as pd
import numpy as np
import matplotlib.pylab as plt


#신경망
#활성화 함수

#1.계단 함수 

def step_function(x):
  return np.array(x>0, dtype=np.int)

x = np.arange(-5.0, 5.0, 0.1)
y = step_function(x)

print(y)

plt.plot(x,y)
plt.ylim(-0.1, 1.1)
plt.show()

#2.시그모이드 함수

def sigmoid(x):
  return 1 / (1+np.exp(-x))
x=np.arange(-5, 5, 0.1)
y = sigmoid(x)
plt.plot(x,y)
plt.ylim(-0.1, 1.1)
plt.show()

#3.ReLU 함수

def ReLU(x):
  return np.maximum(0,x)
x=np.arange(-5, 5, 0.1)
y = ReLU(x)
plt.plot(x,y)
plt.ylim(-0.1, 1.1)
plt.show()

#4. Softmax 함수

def softmax(a):
  c = np.max(a)
  exp_a = np.exp(a-c) # 오버플로우를 막기 위해 변수값 중 최대 값을 빼준다.
  sum_exp_a = np.sum(exp_a)
  y = exp_a / sum_exp_a
  
  return y

a = np.array([0.3, 2.9, 4.0])
y = softmax(a)
print(y)
print(np.sum(y))

# 3층 신경망 구현
def identity_function(x):
  return x


def init_network():
  network = {}
  network["w1"] = np.array([[0.1,0.3,0.5],[0.2,0.4,0.6]])
  network["b1"] = np.array([0.1,0.2,0.3])
  network["w2"] = np.array([[0.1,0.4],[0.2,0.5],[0.3,0.6]])
  network["b2"] = np.array([0.1,0.2])
  network["w3"] = np.array([[0.1,0.3],[0.2,0.4]])
  network["b3"] = np.array([0.1,0.2])
  
  return network

def forward(network, x):
  w1, w2, w3 = network["w1"], network["w2"], network["w3"]
  b1, b2, b3 = network["b1"], network["b2"], network["b3"]
  
  a1 = np.dot(x, w1) +b1
  z1 = sigmoid(a1)
  a2 = np.dot(z1, w2) +b2
  z2 = sigmoid(a2)
  a3 = np.dot(z2, w3) + b3
  y = identity_function(a3)
  
  return y

network = init_network()
x = np.array([1.0, 0.5])
y = forward(network, x)
print(y)


