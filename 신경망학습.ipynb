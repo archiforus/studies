{
 "cells": [
  {
   "cell_type": "markdown",
   "metadata": {},
   "source": [
    "# 신경망학습\n",
    "## 107p~\n",
    "\n",
    "  * 학습 : 훈련 데이터로부터 가중치 매개변수의 최적값을 자동으로 획득하는 것을 뜻함\n",
    "  * 손실함수 : 신경망이 학습할 수 있도록 해주는 지표\n",
    "  * 학습 목표 : 손실함수의 결과값을 가장 작게 만드는 가중치 매개변수를 찾는 것\n",
    "## 데이터 주도 학습\n",
    "  * 인간은 직관을 활용해 가설을 검증 (시행착오) / 기계학습은 인간을 배제하고  수집된 데이터로 부터 패턴 찾아나감\n",
    "  * 종단간 기계학습(end-to-end mashine learning) : 처음부터 끝까지, 데이터 입력에서 결과까지 사람의 개입없이 이루어짐\n",
    "## 훈련 데이터와 테스트 데이터\n",
    "  * 분리 이유: 범용성을 평가하기 위함\n",
    "  * 오버피팅 : 제한된 데이터셋에만 지나치게 최적화된 상태 (편향된 상태)\n",
    "## 손실함수\n",
    "  * 평균제곱오차(MSE:mean squared error), 크로스엔트로피 오차를 주로 사용\n",
    "  * 매개변수의 미분이 대부분의 장소에서 0이 되기 때문에 신경망 학습시 정확도accuracy를 지표로 삼아선 안된다. "
   ]
  },
  {
   "cell_type": "markdown",
   "metadata": {},
   "source": [
    "#  1. 평균제곱오차(MSE:mean squared error)"
   ]
  },
  {
   "cell_type": "code",
   "execution_count": 1,
   "metadata": {},
   "outputs": [
    {
     "data": {
      "text/plain": [
       "0.09750000000000003"
      ]
     },
     "execution_count": 1,
     "metadata": {},
     "output_type": "execute_result"
    }
   ],
   "source": [
    "import numpy as np\n",
    "#MSE\n",
    "def MSE(y,t):\n",
    "    return 0.5 * np.sum((y-t)**2)\n",
    "\n",
    "y = [.1, .05, .6, 0, .05, .1, 0, .1, 0, 0] # 예측한 값 '2'가 60%로 가장 확률이 높음 (예시 :mnist data set 에서 softmax 함수 출력값)\n",
    "t = [0, 0, 1, 0, 0, 0, 0, 0, 0, 0] # 실제 값 '2' (원 핫 인코딩 한 값)\n",
    "\n",
    "#MSE값 출력\n",
    "MSE(np.array(y), np.array(t))"
   ]
  },
  {
   "cell_type": "code",
   "execution_count": 2,
   "metadata": {},
   "outputs": [
    {
     "data": {
      "text/plain": [
       "0.5975"
      ]
     },
     "execution_count": 2,
     "metadata": {},
     "output_type": "execute_result"
    }
   ],
   "source": [
    "#예측값이 '7'이 60%로 가장 높았을 때, MSE 구하기\n",
    "y1 = [.1, .05, .1, 0, .05, .1, 0, .6, 0, 0] # 예측한 값 '7'가 60%로 가장 확률이 높음 (예시 :mnist data set 에서 softmax 함수 출력값)\n",
    "\n",
    "MSE(np.array(y1), np.array(t))"
   ]
  },
  {
   "cell_type": "markdown",
   "metadata": {},
   "source": [
    " * 1) 'y'일때, MSE=0.0975\n",
    " * 2) 'y1'일때, MSE=0.5975\n",
    " * '1'번의 경우가, MSE가 더 낮아, 그만큼 오차가 적고, 정답에 더 가깝다고 판단"
   ]
  },
  {
   "cell_type": "markdown",
   "metadata": {},
   "source": [
    "#  2. 교차 엔트로피 오차(CEE: cross entropy error)"
   ]
  },
  {
   "cell_type": "code",
   "execution_count": 3,
   "metadata": {},
   "outputs": [
    {
     "data": {
      "text/plain": [
       "0.510825457099338"
      ]
     },
     "execution_count": 3,
     "metadata": {},
     "output_type": "execute_result"
    }
   ],
   "source": [
    "def CEE(y,t):\n",
    "    delta = 1e-7\n",
    "    return - np.sum(t*np.log(y+delta))\n",
    "\n",
    "y = [.1, .05, .6, 0, .05, .1, 0, .1, 0, 0] # 예측한 값 '2'가 60%로 가장 확률이 높음 (예시 :mnist data set 에서 softmax 함수 출력값)\n",
    "t = [0, 0, 1, 0, 0, 0, 0, 0, 0, 0] # 실제 값 '2' (원 핫 인코딩 한 값)\n",
    "\n",
    "CEE(np.array(y), np.array(t))"
   ]
  },
  {
   "cell_type": "code",
   "execution_count": 4,
   "metadata": {},
   "outputs": [
    {
     "data": {
      "text/plain": [
       "2.302584092994546"
      ]
     },
     "execution_count": 4,
     "metadata": {},
     "output_type": "execute_result"
    }
   ],
   "source": [
    "#예측값이 '7'이 60%로 가장 높았을 때, MSE 구하기\n",
    "y1 = [.1, .05, .1, 0, .05, .1, 0, .6, 0, 0] # 예측한 값 '7'가 60%로 가장 확률이 높음 (예시 :mnist data set 에서 softmax 함수 출력값)\n",
    "\n",
    "CEE(np.array(y1), np.array(t))"
   ]
  },
  {
   "cell_type": "markdown",
   "metadata": {},
   "source": [
    "# 미니배치 학습\n",
    " * 미니배치 학습 : 전체 훈련 데이터 중 일부만 무작위 추출하여 학습\n",
    " * 이유 : 모든 데이터의 손실함수를 구한다면 계산량이 많다. 일부 샘플링하여 '근사치'로 구함"
   ]
  },
  {
   "cell_type": "code",
   "execution_count": 5,
   "metadata": {},
   "outputs": [
    {
     "name": "stdout",
     "output_type": "stream",
     "text": [
      "(60000, 784)\n",
      "(60000, 10)\n"
     ]
    }
   ],
   "source": [
    "import sys, os\n",
    "sys.path.append(os.pardir)\n",
    "import numpy as np\n",
    "from dataset.mnist import load_mnist\n",
    "\n",
    "(x_train, t_train), (x_test, t_test) = load_mnist(normalize = True, one_hot_label = True)\n",
    "\n",
    "print(x_train.shape)\n",
    "print(t_train.shape)"
   ]
  },
  {
   "cell_type": "code",
   "execution_count": 6,
   "metadata": {},
   "outputs": [],
   "source": [
    "#random choice 활용, train data에서 무작위로 10개 추출하기\n",
    "train_size = x_train.shape[0]\n",
    "batch_size = 10\n",
    "batch_mask = np.random.choice(train_size, batch_size)\n",
    "x_batch = x_train[batch_mask]\n",
    "t_batch = t_train[batch_mask]"
   ]
  },
  {
   "cell_type": "code",
   "execution_count": 7,
   "metadata": {},
   "outputs": [],
   "source": [
    "# batch CEE (원핫 인코딩 한 경우,)\n",
    "def CEE_b_o(y,t):\n",
    "    if y.ndim ==1:\n",
    "        t = t.reshape(1, t.size)\n",
    "        y = y.reshape(1, y.size)\n",
    "        \n",
    "    batch_size = y.shape[0]\n",
    "    return -np.sum(t*np.log(y)) / batch_size"
   ]
  },
  {
   "cell_type": "code",
   "execution_count": 8,
   "metadata": {},
   "outputs": [],
   "source": [
    "# batch CEE (정답 레이블이 실제 숫자로 주어질 경우,)\n",
    "def CEE_b_r(y,t):\n",
    "    if y.ndim ==1:\n",
    "        t = t.reshape(1, t.size)\n",
    "        y = y.reshape(1, y.size)\n",
    "        \n",
    "    batch_size = y.shape[0]\n",
    "    return -np.sum(np.log(y[np.arange(batch_size),t])) / batch_size"
   ]
  },
  {
   "cell_type": "markdown",
   "metadata": {},
   "source": [
    "# 수치 미분\n",
    " * 수치미분과 진정한 미분 사이의 차이를 극복하기 위해 중심차분(중앙차분)을 계산한다."
   ]
  },
  {
   "cell_type": "code",
   "execution_count": 9,
   "metadata": {},
   "outputs": [],
   "source": [
    "#수치미분\n",
    "def numerical_diff(f,x):\n",
    "    h = 1e-4 #0.0001을 의미 (미분시 lim h->0 의 개략적 표현)\n",
    "    return (f(x+h) - f(x-h)) / (2*h)"
   ]
  },
  {
   "cell_type": "code",
   "execution_count": 10,
   "metadata": {},
   "outputs": [],
   "source": [
    "#수치미분 예시\n",
    "def function_1(x):\n",
    "    return 0.01*x**2 + 0.1*x"
   ]
  },
  {
   "cell_type": "code",
   "execution_count": 12,
   "metadata": {},
   "outputs": [
    {
     "data": {
      "image/png": "[encoded data removed]",
      "text/plain": [
       "<Figure size 432x288 with 1 Axes>"
      ]
     },
     "metadata": {
      "needs_background": "light"
     },
     "output_type": "display_data"
    }
   ],
   "source": [
    "import matplotlib.pylab as plt\n",
    "\n",
    "x = np.arange(0.0, 20.0, 0.1) # 0-20까지 0.1간격의 배열 x\n",
    "y = function_1(x)\n",
    "\n",
    "plt.xlabel('x')\n",
    "plt.ylabel('f(x)')\n",
    "plt.plot(x,y)\n",
    "plt.show()"
   ]
  },
  {
   "cell_type": "code",
   "execution_count": 13,
   "metadata": {},
   "outputs": [
    {
     "name": "stdout",
     "output_type": "stream",
     "text": [
      "0.1999999999990898\n",
      "0.2999999999986347\n"
     ]
    }
   ],
   "source": [
    "print(numerical_diff(function_1, 5)) #실제 미분값은 0.2\n",
    "print(numerical_diff(function_1, 10)) #실제 미분값은 0.3"
   ]
  },
  {
   "cell_type": "code",
   "execution_count": 14,
   "metadata": {},
   "outputs": [],
   "source": [
    "# 편미분\n",
    "def function_2(x):     #f(x0, x1) = x0^2 + x1^2\n",
    "    return x[0]**2 + x[1]**2 #또는 return np.sum(x**2)"
   ]
  },
  {
   "cell_type": "code",
   "execution_count": 15,
   "metadata": {},
   "outputs": [
    {
     "data": {
      "text/plain": [
       "6.00000000000378"
      ]
     },
     "execution_count": 15,
     "metadata": {},
     "output_type": "execute_result"
    }
   ],
   "source": [
    "# 예제 x0 = 3, x1=4 일때, x0에 대한 편미분을 구하라.\n",
    "def function_tmp1(x0):\n",
    "    return x0*x0 +4.0**2.0\n",
    "numerical_diff(function_tmp1, 3.0)"
   ]
  },
  {
   "cell_type": "code",
   "execution_count": 16,
   "metadata": {},
   "outputs": [
    {
     "data": {
      "text/plain": [
       "7.999999999999119"
      ]
     },
     "execution_count": 16,
     "metadata": {},
     "output_type": "execute_result"
    }
   ],
   "source": [
    "# 예제 x0 = 3, x1=4 일때, x1에 대한 편미분을 구하라.\n",
    "def function_tmp2(x1):\n",
    "    return 3**2 +x1**x1\n",
    "numerical_diff(function_tmp1, 4.0)"
   ]
  },
  {
   "cell_type": "code",
   "execution_count": 17,
   "metadata": {},
   "outputs": [],
   "source": [
    "def numerical_gradient(f, x):\n",
    "    h = 1e-4\n",
    "    grad = np.zeros_like(x) #x와 형상이 같고 원소가 모두 0인 배열을 생성\n",
    "    \n",
    "    for idx in range(x.size):\n",
    "        tmp_val = x[idx]\n",
    "        x[idx] = tmp_val + h #f(x+h)계산\n",
    "        fxh1 = f(x)\n",
    "        \n",
    "        x[idx] = tmp_val - h #f(x-h)계산\n",
    "        fxh2 = f(x)\n",
    "        \n",
    "        grad[idx] = (fxh1 - fxh2) / (2*h)\n",
    "        x[idx] = tmp_val #값을 복원\n",
    "    \n",
    "    return grad"
   ]
  },
  {
   "cell_type": "code",
   "execution_count": 18,
   "metadata": {},
   "outputs": [
    {
     "name": "stdout",
     "output_type": "stream",
     "text": [
      "[6. 8.]\n",
      "[0. 4.]\n",
      "[6. 0.]\n"
     ]
    }
   ],
   "source": [
    "#예시 (3,4),(0,2),(3,0) 에서 기울기 구하기\n",
    "\n",
    "print(numerical_gradient(function_2, np.array([3.0,4.0])))\n",
    "print(numerical_gradient(function_2, np.array([0.0,2.0])))\n",
    "print(numerical_gradient(function_2, np.array([3.0,0.0])))\n",
    "#"
   ]
  },
  {
   "cell_type": "code",
   "execution_count": 19,
   "metadata": {},
   "outputs": [
    {
     "name": "stdout",
     "output_type": "stream",
     "text": [
      "[6. 8. 0. 0. 0.]\n",
      "[0. 4. 0. 0. 0.]\n",
      "[6. 0. 0. 0. 0.]\n"
     ]
    }
   ],
   "source": [
    "# 변수가 많은 2차 방정식을 numpy 행렬로 각각의 변수로 편미분\n",
    "\n",
    "def function_3(x):     #f(x0, x1, x2,...) = x0^2 + x1^2 + x2^3 + ....\n",
    "    return x[0]**2 + x[1]**2 + x[2]**2 + x[3]**2 + x[4]**2\n",
    "\n",
    "def numerical_gradient(f, x):\n",
    "    h = 1e-4\n",
    "    grad = np.zeros_like(x) #x와 형상이 같고 원소가 모두 0인 배열을 생성\n",
    "    \n",
    "    for idx in range(x.size):\n",
    "        tmp_val = x[idx]\n",
    "        x[idx] = tmp_val + h #f(x+h)계산\n",
    "        fxh1 = f(x)\n",
    "        \n",
    "        x[idx] = tmp_val - h #f(x-h)계산\n",
    "        fxh2 = f(x)\n",
    "        \n",
    "        grad[idx] = (fxh1 - fxh2) / (2*h)\n",
    "        x[idx] = tmp_val #값을 복원\n",
    "    \n",
    "    return grad\n",
    "\n",
    "\n",
    "print(numerical_gradient(function_2, np.array([3.0,4.0,5.0,0.0,2.0])))\n",
    "print(numerical_gradient(function_2, np.array([0.0,2.0,1.0,4.0,5.0])))\n",
    "print(numerical_gradient(function_2, np.array([3.0,0.0,1.0,5.0,0.0])))"
   ]
  },
  {
   "cell_type": "markdown",
   "metadata": {},
   "source": [
    "# 경사하강법\n",
    " * 극소값 : 기울기0, 한정된 범위 내 최소값\n",
    " * 극대값 : 기울기0, 한정된 범위 내 최대값\n",
    " * 안장점 : 기울기0, 극소값 혹은 극대값 (보는 위치에 극대, 극소로 봄)\n",
    " * 플래토plateau, 고원 : 복잡하고 찌그러진 함수의 일부 평평한 부분 (학습 정체 유발)\n",
    " * 에타, 학습률 learning rate : 한번 학습으로 얼만큼 학습할지 (매개변수 값을 얼마나 갱신할지 결정)\n",
    " * 학습률의 적정치 : 학습률을 적정 수준으로 지정하는 것이 중요"
   ]
  },
  {
   "cell_type": "code",
   "execution_count": 20,
   "metadata": {},
   "outputs": [],
   "source": [
    "#경사하강법 구현\n",
    "def gradient_descent(f, init_x, lr=0.01, step_num=100):  #f:최적화하려는 함수 / init_x:초기값, lr:학습률, step_num:경사법에 따른 반봅 횟수\n",
    "    x = init_x\n",
    "    \n",
    "    for i in range(step_num):    #설정한 반복 횟수 만큼 반복\n",
    "        grad = numerical_gradient(f, x)    #앞서 정의한 기울기 함수로 기울기를 구한다.\n",
    "        x -=lr * grad     # 구한 기울기에 학습률을 곱한후, x값을 갱신한다.  \n",
    "    return x   #설정한 반복 횟수만큼 x 값을 갱신하고, 최종 x 값을 출력한다."
   ]
  },
  {
   "cell_type": "code",
   "execution_count": 21,
   "metadata": {},
   "outputs": [],
   "source": [
    "#경사법으로 f(x0, x1) = x0^2 + x1^2의 최소값 구하기\n",
    "def function_2(x):\n",
    "    return x[0]**2 + x[1]**2"
   ]
  },
  {
   "cell_type": "code",
   "execution_count": 24,
   "metadata": {},
   "outputs": [
    {
     "data": {
      "text/plain": [
       "array([-6.11110793e-10,  8.14814391e-10])"
      ]
     },
     "execution_count": 24,
     "metadata": {},
     "output_type": "execute_result"
    }
   ],
   "source": [
    "init_x = np.array([-3.0, 4.0])\n",
    "gradient_descent(function_2, init_x=init_x, lr=0.1, step_num = 100)"
   ]
  },
  {
   "cell_type": "code",
   "execution_count": null,
   "metadata": {},
   "outputs": [],
   "source": []
  }
 ],
 "metadata": {
  "kernelspec": {
   "display_name": "Python 3",
   "language": "python",
   "name": "python3"
  },
  "language_info": {
   "codemirror_mode": {
    "name": "ipython",
    "version": 3
   },
   "file_extension": ".py",
   "mimetype": "text/x-python",
   "name": "python",
   "nbconvert_exporter": "python",
   "pygments_lexer": "ipython3",
   "version": "3.7.1"
  }
 },
 "nbformat": 4,
 "nbformat_minor": 2
}
